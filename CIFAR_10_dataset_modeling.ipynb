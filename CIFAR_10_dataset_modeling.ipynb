{
  "nbformat": 4,
  "nbformat_minor": 0,
  "metadata": {
    "colab": {
      "provenance": [],
      "machine_shape": "hm",
      "authorship_tag": "ABX9TyPLoU/XlpfKjlwl0FXGyYT1",
      "include_colab_link": true
    },
    "kernelspec": {
      "name": "python3",
      "display_name": "Python 3"
    },
    "language_info": {
      "name": "python"
    },
    "accelerator": "TPU",
    "gpuClass": "standard"
  },
  "cells": [
    {
      "cell_type": "markdown",
      "metadata": {
        "id": "view-in-github",
        "colab_type": "text"
      },
      "source": [
        "<a href=\"https://colab.research.google.com/github/Serendipity-Song/Classify_CIFAR-10_Dataset/blob/main/CIFAR_10_dataset_modeling.ipynb\" target=\"_parent\"><img src=\"https://colab.research.google.com/assets/colab-badge.svg\" alt=\"Open In Colab\"/></a>"
      ]
    },
    {
      "cell_type": "code",
      "execution_count": null,
      "metadata": {
        "id": "lyAfoicTQW3v"
      },
      "outputs": [],
      "source": [
        "import tensorflow as tf\n",
        "from tensorflow import keras\n",
        "from tensorflow.keras import layers"
      ]
    },
    {
      "cell_type": "code",
      "source": [
        "(x_train, y_train), (x_test, y_test) = keras.datasets.cifar10.load_data()\n"
      ],
      "metadata": {
        "colab": {
          "base_uri": "https://localhost:8080/"
        },
        "id": "LkDyNwAdQX30",
        "outputId": "3e5578a2-fd67-4e0b-980a-5e7359375e6f"
      },
      "execution_count": null,
      "outputs": [
        {
          "output_type": "stream",
          "name": "stdout",
          "text": [
            "Downloading data from https://www.cs.toronto.edu/~kriz/cifar-10-python.tar.gz\n",
            "170498071/170498071 [==============================] - 3s 0us/step\n"
          ]
        }
      ]
    },
    {
      "cell_type": "code",
      "source": [
        "x_train = x_train.astype(\"float32\") / 255.0\n",
        "x_test = x_test.astype(\"float32\") / 255.0\n",
        "\n",
        "y_train = keras.utils.to_categorical(y_train, 10)\n",
        "y_test = keras.utils.to_categorical(y_test, 10)\n"
      ],
      "metadata": {
        "id": "YYbozsxhQ3SQ"
      },
      "execution_count": null,
      "outputs": []
    },
    {
      "cell_type": "code",
      "source": [
        "model = keras.Sequential(\n",
        "    [\n",
        "        keras.Input(shape=(32, 32, 3)),\n",
        "        layers.Conv2D(32, kernel_size=(3, 3), activation=\"relu\"),\n",
        "        layers.MaxPooling2D(pool_size=(2, 2)),\n",
        "        layers.Conv2D(64, kernel_size=(3, 3), activation=\"relu\"),\n",
        "        layers.MaxPooling2D(pool_size=(2, 2)),\n",
        "        layers.Flatten(),\n",
        "        layers.Dense(128, activation=\"relu\"),\n",
        "        layers.Dense(10, activation=\"softmax\"),\n",
        "    ]\n",
        ")\n"
      ],
      "metadata": {
        "id": "q-2yPharQ4kS"
      },
      "execution_count": null,
      "outputs": []
    },
    {
      "cell_type": "code",
      "source": [
        "model.compile(optimizer=\"adam\", loss=\"categorical_crossentropy\", metrics=[\"accuracy\"])\n"
      ],
      "metadata": {
        "id": "FBncpssXRAIH"
      },
      "execution_count": null,
      "outputs": []
    },
    {
      "cell_type": "code",
      "source": [
        "model.fit(x_train, y_train, batch_size=64, epochs=10, validation_data=(x_test, y_test))\n"
      ],
      "metadata": {
        "colab": {
          "base_uri": "https://localhost:8080/"
        },
        "id": "btDuEjx_RCPh",
        "outputId": "13cce649-b3c5-4631-ce65-6c0f20b9cad0"
      },
      "execution_count": null,
      "outputs": [
        {
          "output_type": "stream",
          "name": "stdout",
          "text": [
            "Epoch 1/10\n",
            "782/782 [==============================] - 11s 12ms/step - loss: 1.4815 - accuracy: 0.4716 - val_loss: 1.1911 - val_accuracy: 0.5843\n",
            "Epoch 2/10\n",
            "782/782 [==============================] - 9s 12ms/step - loss: 1.1244 - accuracy: 0.6059 - val_loss: 1.0587 - val_accuracy: 0.6304\n",
            "Epoch 3/10\n",
            "782/782 [==============================] - 9s 12ms/step - loss: 0.9957 - accuracy: 0.6528 - val_loss: 1.0604 - val_accuracy: 0.6281\n",
            "Epoch 4/10\n",
            "782/782 [==============================] - 9s 11ms/step - loss: 0.9173 - accuracy: 0.6803 - val_loss: 0.9368 - val_accuracy: 0.6771\n",
            "Epoch 5/10\n",
            "782/782 [==============================] - 9s 11ms/step - loss: 0.8511 - accuracy: 0.7033 - val_loss: 0.9204 - val_accuracy: 0.6822\n",
            "Epoch 6/10\n",
            "782/782 [==============================] - 9s 11ms/step - loss: 0.7962 - accuracy: 0.7215 - val_loss: 0.8820 - val_accuracy: 0.6995\n",
            "Epoch 7/10\n",
            "782/782 [==============================] - 9s 11ms/step - loss: 0.7424 - accuracy: 0.7411 - val_loss: 0.9038 - val_accuracy: 0.6966\n",
            "Epoch 8/10\n",
            "782/782 [==============================] - 9s 11ms/step - loss: 0.6960 - accuracy: 0.7590 - val_loss: 0.8955 - val_accuracy: 0.6988\n",
            "Epoch 9/10\n",
            "782/782 [==============================] - 9s 11ms/step - loss: 0.6517 - accuracy: 0.7728 - val_loss: 0.9354 - val_accuracy: 0.6907\n",
            "Epoch 10/10\n",
            "782/782 [==============================] - 9s 11ms/step - loss: 0.6037 - accuracy: 0.7891 - val_loss: 0.8915 - val_accuracy: 0.7095\n"
          ]
        },
        {
          "output_type": "execute_result",
          "data": {
            "text/plain": [
              "<keras.callbacks.History at 0x7f16e9022fe0>"
            ]
          },
          "metadata": {},
          "execution_count": 6
        }
      ]
    },
    {
      "cell_type": "code",
      "source": [
        "test_loss, test_acc = model.evaluate(x_test, y_test)\n",
        "print(\"Test accuracy:\", test_acc)\n"
      ],
      "metadata": {
        "colab": {
          "base_uri": "https://localhost:8080/"
        },
        "id": "kUoslulgRK6O",
        "outputId": "e4302a11-5950-4a55-ecc4-f5df1cdbae39"
      },
      "execution_count": null,
      "outputs": [
        {
          "output_type": "stream",
          "name": "stdout",
          "text": [
            "313/313 [==============================] - 1s 3ms/step - loss: 0.8915 - accuracy: 0.7095\n",
            "Test accuracy: 0.7095000147819519\n"
          ]
        }
      ]
    },
    {
      "cell_type": "code",
      "source": [
        "import matplotlib.pyplot as plt\n",
        "import numpy as np\n",
        "from sklearn.metrics import classification_report, confusion_matrix\n",
        "\n",
        "# Generate predictions for the test data\n",
        "y_pred = np.argmax(model.predict(x_test), axis=-1)\n",
        "\n",
        "# Plot confusion matrix\n",
        "cm = confusion_matrix(np.argmax(y_test, axis=-1), y_pred)\n",
        "plt.matshow(cm, cmap=plt.cm.Blues)\n",
        "plt.colorbar()\n",
        "plt.xlabel('Predicted')\n",
        "plt.ylabel('True')\n",
        "plt.show()\n",
        "\n",
        "# Print classification report\n",
        "print(classification_report(np.argmax(y_test, axis=-1), y_pred))\n"
      ],
      "metadata": {
        "colab": {
          "base_uri": "https://localhost:8080/",
          "height": 730
        },
        "id": "ot-5EapRRo8n",
        "outputId": "9e5c8558-6846-4639-a8da-23c937b2d5bb"
      },
      "execution_count": null,
      "outputs": [
        {
          "output_type": "stream",
          "name": "stdout",
          "text": [
            "313/313 [==============================] - 1s 3ms/step\n"
          ]
        },
        {
          "output_type": "display_data",
          "data": {
            "text/plain": [
              "<Figure size 480x480 with 2 Axes>"
            ],
            "image/png": "[encoded data removed]"
          },
          "metadata": {}
        },
        {
          "output_type": "stream",
          "name": "stdout",
          "text": [
            "              precision    recall  f1-score   support\n",
            "\n",
            "           0       0.80      0.71      0.75      1000\n",
            "           1       0.87      0.74      0.80      1000\n",
            "           2       0.62      0.60      0.61      1000\n",
            "           3       0.50      0.56      0.53      1000\n",
            "           4       0.61      0.72      0.66      1000\n",
            "           5       0.63      0.62      0.63      1000\n",
            "           6       0.78      0.82      0.80      1000\n",
            "           7       0.81      0.73      0.77      1000\n",
            "           8       0.89      0.74      0.81      1000\n",
            "           9       0.70      0.86      0.78      1000\n",
            "\n",
            "    accuracy                           0.71     10000\n",
            "   macro avg       0.72      0.71      0.71     10000\n",
            "weighted avg       0.72      0.71      0.71     10000\n",
            "\n"
          ]
        }
      ]
    }
  ]
}