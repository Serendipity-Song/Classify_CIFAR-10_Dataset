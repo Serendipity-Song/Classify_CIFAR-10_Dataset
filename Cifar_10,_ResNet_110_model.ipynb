{
  "nbformat": 4,
  "nbformat_minor": 0,
  "metadata": {
    "colab": {
      "provenance": [],
      "authorship_tag": "ABX9TyPO/DkPGM6+RcmUB1O/l/oH",
      "include_colab_link": true
    },
    "kernelspec": {
      "name": "python3",
      "display_name": "Python 3"
    },
    "language_info": {
      "name": "python"
    }
  },
  "cells": [
    {
      "cell_type": "markdown",
      "metadata": {
        "id": "view-in-github",
        "colab_type": "text"
      },
      "source": [
        "<a href=\"https://colab.research.google.com/github/Serendipity-Song/Classify_CIFAR-10_Dataset/blob/main/Cifar_10%2C_ResNet_110_model.ipynb\" target=\"_parent\"><img src=\"https://colab.research.google.com/assets/colab-badge.svg\" alt=\"Open In Colab\"/></a>"
      ]
    },
    {
      "cell_type": "code",
      "execution_count": null,
      "metadata": {
        "id": "sGiMURCDuuBQ"
      },
      "outputs": [],
      "source": [
        "import tensorflow as tf\n",
        "from tensorflow import keras\n",
        "from tensorflow.keras import layers, models\n",
        "\n",
        "# Load CIFAR-10 dataset\n",
        "(train_images, train_labels), (test_images, test_labels) = keras.datasets.cifar10.load_data()\n",
        "\n",
        "# Normalize pixel values between 0 and 1\n",
        "train_images, test_images = train_images / 255.0, test_images / 255.0\n",
        "\n",
        "# Convert class vectors to binary class matrices\n",
        "train_labels = keras.utils.to_categorical(train_labels, 10)\n",
        "test_labels = keras.utils.to_categorical(test_labels, 10)\n",
        "\n"
      ]
    },
    {
      "cell_type": "code",
      "source": [
        "\n",
        "# Define a ResNet block\n",
        "def resnet_block(input, filters, kernel_size=3, stride=1, conv_shortcut=True):\n",
        "    x = layers.Conv2D(filters, kernel_size, strides=stride, padding=\"same\",\n",
        "                      kernel_initializer='he_normal')(input)\n",
        "    x = layers.BatchNormalization()(x)\n",
        "    x = layers.Activation('relu')(x)\n",
        "\n",
        "    x = layers.Conv2D(filters, kernel_size, padding=\"same\", kernel_initializer='he_normal')(x)\n",
        "    x = layers.BatchNormalization()(x)\n",
        "\n",
        "    if conv_shortcut:\n",
        "        input = layers.Conv2D(filters, 1, strides=stride, kernel_initializer='he_normal')(input)\n",
        "        input = layers.BatchNormalization()(input)\n",
        "\n",
        "    x = layers.Add()([x, input])\n",
        "    x = layers.Activation('relu')(x)\n",
        "    return x\n",
        "\n"
      ],
      "metadata": {
        "id": "MAlE6X-2u0sv"
      },
      "execution_count": null,
      "outputs": []
    },
    {
      "cell_type": "code",
      "source": [
        "\n",
        "# Build ResNet-110 model\n",
        "def build_resnet110(input_shape, num_classes):\n",
        "    inputs = keras.Input(shape=input_shape)\n",
        "    x = layers.Conv2D(16, 3, activation='relu', kernel_initializer='he_normal', padding=\"same\")(inputs)\n",
        "    x = layers.BatchNormalization()(x)\n",
        "\n",
        "    # First stack\n",
        "    for _ in range(18):\n",
        "        x = resnet_block(x, 16)\n",
        "\n",
        "    # Second stack\n",
        "    x = resnet_block(x, 32, stride=2, conv_shortcut=True)\n",
        "    for _ in range(17):\n",
        "        x = resnet_block(x, 32)\n",
        "\n",
        "    # Third stack\n",
        "    x = resnet_block(x, 64, stride=2, conv_shortcut=True)\n",
        "    for _ in range(17):\n",
        "        x = resnet_block(x, 64)\n",
        "\n",
        "    x = layers.GlobalAveragePooling2D()(x)\n",
        "    outputs = layers.Dense(num_classes, activation='softmax')(x)\n",
        "\n",
        "    return models.Model(inputs, outputs)\n",
        "\n"
      ],
      "metadata": {
        "id": "ouUHBIAHu4m8"
      },
      "execution_count": null,
      "outputs": []
    },
    {
      "cell_type": "code",
      "source": [
        "\n",
        "# Compile and train the model\n",
        "input_shape = train_images.shape[1:]\n",
        "num_classes = 10\n",
        "\n",
        "model = build_resnet110(input_shape, num_classes)\n",
        "\n",
        "model.compile(optimizer=keras.optimizers.Adam(learning_rate=1e-3),\n",
        "              loss='categorical_crossentropy',\n",
        "              metrics=['accuracy'])\n",
        "\n",
        "history = model.fit(train_images, train_labels, epochs=10, batch_size=128,\n",
        "                    validation_data=(test_images, test_labels))\n",
        "\n",
        "# Evaluate the model\n",
        "test_loss, test_acc = model.evaluate(test_images, test_labels, verbose=2)\n",
        "print(f'\\nTest accuracy: {test_acc}')\n"
      ],
      "metadata": {
        "id": "lrop_uUfu5qH"
      },
      "execution_count": null,
      "outputs": []
    },
    {
      "cell_type": "code",
      "source": [
        "# Save the model\n",
        "model.save('')"
      ],
      "metadata": {
        "id": "THMiZqYHu7du"
      },
      "execution_count": null,
      "outputs": []
    }
  ]
}