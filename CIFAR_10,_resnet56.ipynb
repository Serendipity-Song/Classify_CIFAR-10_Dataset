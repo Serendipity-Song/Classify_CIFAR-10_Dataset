{
  "cells": [
    {
      "cell_type": "markdown",
      "metadata": {
        "id": "view-in-github",
        "colab_type": "text"
      },
      "source": [
        "<a href=\"https://colab.research.google.com/github/Serendipity-Song/Classify_CIFAR-10_Dataset/blob/main/CIFAR_10%2C_resnet56.ipynb\" target=\"_parent\"><img src=\"https://colab.research.google.com/assets/colab-badge.svg\" alt=\"Open In Colab\"/></a>"
      ]
    },
    {
      "cell_type": "code",
      "execution_count": null,
      "metadata": {
        "id": "uyXB9WSc6xEp"
      },
      "outputs": [],
      "source": [
        "import tensorflow as tf\n",
        "from tensorflow.keras import layers, models, datasets\n",
        "\n",
        "def resnet_layer(inputs, num_filters=16, kernel_size=3, strides=1, activation='relu', batch_normalization=True):\n",
        "    x = layers.Conv2D(num_filters, kernel_size=kernel_size, strides=strides, padding='same', kernel_initializer='he_normal')(inputs)\n",
        "    if batch_normalization:\n",
        "        x = layers.BatchNormalization()(x)\n",
        "    if activation:\n",
        "        x = layers.Activation(activation)(x)\n",
        "    return x\n",
        "def resnet_block(inputs, num_filters=16, num_res_blocks=3):\n",
        "    x = inputs\n",
        "    for _ in range(num_res_blocks):\n",
        "        y = resnet_layer(x, num_filters=num_filters)\n",
        "        y = resnet_layer(y, num_filters=num_filters, activation=None)\n",
        "        x = layers.add([x, y])\n",
        "        x = layers.Activation('relu')(x)\n",
        "    return x"
      ]
    },
    {
      "cell_type": "code",
      "execution_count": null,
      "metadata": {
        "id": "sNH0af9U63fc"
      },
      "outputs": [],
      "source": [
        "def resnet56(input_shape, num_classes=10):\n",
        "    inputs = tf.keras.Input(shape=input_shape)\n",
        "    x = resnet_layer(inputs)\n",
        "\n",
        "    # Instantiate the stack of residual units\n",
        "    x = resnet_block(x, num_filters=16, num_res_blocks=9) # 18 layers\n",
        "    x = resnet_layer(x, num_filters=32, strides=2)\n",
        "    x = resnet_block(x, num_filters=32, num_res_blocks=9) # 18 layers\n",
        "    x = resnet_layer(x, num_filters=64, strides=2)\n",
        "    x = resnet_block(x, num_filters=64, num_res_blocks=9) # 18 layers\n",
        "\n",
        "    x = layers.GlobalAveragePooling2D()(x)\n",
        "    outputs = layers.Dense(num_classes, activation='softmax')(x)\n",
        "\n",
        "    model = models.Model(inputs, outputs)\n",
        "    return model"
      ]
    },
    {
      "cell_type": "code",
      "execution_count": null,
      "metadata": {
        "id": "CO9CHHRDJYEZ"
      },
      "outputs": [],
      "source": []
    },
    {
      "cell_type": "code",
      "execution_count": null,
      "metadata": {
        "colab": {
          "background_save": true,
          "base_uri": "https://localhost:8080/"
        },
        "id": "dP0oWeqk67XG",
        "outputId": "6c5d72ff-3fde-4093-99e4-16ea844d7fec"
      },
      "outputs": [
        {
          "name": "stdout",
          "output_type": "stream",
          "text": [
            "Downloading data from https://www.cs.toronto.edu/~kriz/cifar-10-python.tar.gz\n",
            "170498071/170498071 [==============================] - 12s 0us/step\n",
            "Epoch 1/10\n",
            "1563/1563 [==============================] - 2238s 1s/step - loss: 1.5095 - accuracy: 0.4484 - val_loss: 1.6229 - val_accuracy: 0.4792\n",
            "Epoch 2/10\n",
            "1563/1563 [==============================] - 2185s 1s/step - loss: 0.9984 - accuracy: 0.6444 - val_loss: 1.9466 - val_accuracy: 0.4769\n",
            "Epoch 3/10\n",
            "1563/1563 [==============================] - 2118s 1s/step - loss: 0.7800 - accuracy: 0.7275 - val_loss: 0.9623 - val_accuracy: 0.6838\n",
            "Epoch 4/10\n",
            "1563/1563 [==============================] - 2076s 1s/step - loss: 0.6493 - accuracy: 0.7737 - val_loss: 0.8621 - val_accuracy: 0.7067\n",
            "Epoch 5/10\n",
            "1563/1563 [==============================] - 1994s 1s/step - loss: 0.5635 - accuracy: 0.8045 - val_loss: 0.7114 - val_accuracy: 0.7667\n",
            "Epoch 6/10\n",
            " 140/1563 [=>............................] - ETA: 28:51 - loss: 0.4714 - accuracy: 0.8364"
          ]
        }
      ],
      "source": [
        "# Load the CIFAR10 data\n",
        "(x_train, y_train), (x_test, y_test) = datasets.cifar10.load_data()\n",
        "x_train = x_train.astype('float32') / 255\n",
        "x_test = x_test.astype('float32') / 255\n",
        "y_train = tf.keras.utils.to_categorical(y_train, 10)\n",
        "y_test = tf.keras.utils.to_categorical(y_test, 10)\n",
        "\n",
        "# Create an instance of the model\n",
        "model = resnet56(input_shape=x_train.shape[1:])\n",
        "model.compile(loss='categorical_crossentropy', optimizer='adam', metrics=['accuracy'])\n",
        "\n",
        "# Train the model\n",
        "model.fit(x_train, y_train, epochs=10, batch_size=32, validation_data=(x_test, y_test))"
      ]
    },
    {
      "cell_type": "code",
      "execution_count": null,
      "metadata": {
        "id": "130pm07VykpE"
      },
      "outputs": [],
      "source": []
    },
    {
      "cell_type": "code",
      "execution_count": null,
      "metadata": {
        "id": "StCps-rrlEFV"
      },
      "outputs": [],
      "source": []
    },
    {
      "cell_type": "code",
      "execution_count": null,
      "metadata": {
        "id": "oBT1X7dsr7h2"
      },
      "outputs": [],
      "source": []
    },
    {
      "cell_type": "code",
      "execution_count": null,
      "metadata": {
        "id": "pN6tdGlWd-eQ"
      },
      "outputs": [],
      "source": []
    },
    {
      "cell_type": "code",
      "execution_count": null,
      "metadata": {
        "id": "EpXLv33vXG-J"
      },
      "outputs": [],
      "source": []
    },
    {
      "cell_type": "code",
      "execution_count": null,
      "metadata": {
        "id": "DuPAN08iQPhR"
      },
      "outputs": [],
      "source": []
    },
    {
      "cell_type": "code",
      "execution_count": null,
      "metadata": {
        "colab": {
          "background_save": true
        },
        "id": "PdafBKFH_WAU",
        "outputId": "7c2935af-c793-4a2d-ae43-fccdbb6b26fa"
      },
      "outputs": [
        {
          "ename": "AttributeError",
          "evalue": "ignored",
          "output_type": "error",
          "traceback": [
            "\u001b[0;31m---------------------------------------------------------------------------\u001b[0m",
            "\u001b[0;31mAttributeError\u001b[0m                            Traceback (most recent call last)",
            "\u001b[0;32m<ipython-input-5-285d4f44789b>\u001b[0m in \u001b[0;36m<cell line: 1>\u001b[0;34m()\u001b[0m\n\u001b[0;32m----> 1\u001b[0;31m \u001b[0mresnet56\u001b[0m\u001b[0;34m.\u001b[0m\u001b[0msave\u001b[0m\u001b[0;34m(\u001b[0m\u001b[0;34m'/content/drive/MyDrive/1.DeepArc'\u001b[0m\u001b[0;34m)\u001b[0m\u001b[0;34m\u001b[0m\u001b[0;34m\u001b[0m\u001b[0m\n\u001b[0m",
            "\u001b[0;31mAttributeError\u001b[0m: 'function' object has no attribute 'save'"
          ]
        }
      ],
      "source": [
        "resnet56.save('/content/drive/MyDrive/1.DeepArc')"
      ]
    }
  ],
  "metadata": {
    "colab": {
      "provenance": [],
      "include_colab_link": true
    },
    "kernelspec": {
      "display_name": "Python 3",
      "name": "python3"
    },
    "language_info": {
      "name": "python"
    }
  },
  "nbformat": 4,
  "nbformat_minor": 0
}